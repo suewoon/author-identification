{
 "cells": [
  {
   "cell_type": "markdown",
   "metadata": {},
   "source": [
    "# Spooky Author Identification - Identify authors from their writings\n",
    "\n",
    "This project was started as a [Spooky Author Identifaction Competition](https://www.kaggle.com/c/spooky-author-identification) from Kaggle. First, I'll do basic EDA on the dataset and try out couple of different models in order to predict authors from their writing with simple feature engineering(using word2vec). Next, I'll extract some named entities from writings and explain how to \n",
    "\n",
    "[1. Basic EDA](#1)  \n",
    "[2. Generate a Model](#2)  \n",
    "[3. Extract Named Entities](#3)  \n",
    "[4. Model Comparison](#4)"
   ]
  },
  {
   "cell_type": "markdown",
   "metadata": {},
   "source": [
    "## 0. Loading Libraries & Data Sets"
   ]
  },
  {
   "cell_type": "code",
   "execution_count": 1,
   "metadata": {
    "collapsed": true
   },
   "outputs": [],
   "source": [
    "import pandas as pd\n",
    "import numpy as np\n",
    "import seaborn as sns \n",
    "import matplotlib.pyplot as plt \n",
    "from collections import defaultdict"
   ]
  },
  {
   "cell_type": "code",
   "execution_count": 2,
   "metadata": {},
   "outputs": [
    {
     "name": "stdout",
     "output_type": "stream",
     "text": [
      "training set size: 19579\n",
      "test set size: 8392\n",
      "train:test=1:0.43\n"
     ]
    }
   ],
   "source": [
    "# train-test ratio \n",
    "train = pd.read_csv('./input/train.csv')\n",
    "test = pd.read_csv('./input/test.csv')\n",
    "print(\"training set size: {}\".format(train.shape[0]))\n",
    "print(\"test set size: {}\".format(test.shape[0]))\n",
    "print(\"train:test={}:{}\".format(1,round(test.shape[0]/train.shape[0],2)) )"
   ]
  },
  {
   "cell_type": "code",
   "execution_count": 3,
   "metadata": {},
   "outputs": [
    {
     "name": "stdout",
     "output_type": "stream",
     "text": [
      "No redundant ids:  True\n"
     ]
    }
   ],
   "source": [
    "traintest = pd.concat([train, test])\n",
    "print(\"No redundant ids: \", traintest.shape[0] == traintest.drop_duplicates('id').shape[0])"
   ]
  },
  {
   "cell_type": "code",
   "execution_count": 4,
   "metadata": {},
   "outputs": [
    {
     "name": "stdout",
     "output_type": "stream",
     "text": [
      "No null texts: True\n"
     ]
    }
   ],
   "source": [
    "traintest['count'] = traintest.apply(lambda x: len(x.text), axis=1)\n",
    "print(\"No null texts:\", all(i > 0  for i in traintest['count'].tolist()))"
   ]
  },
  {
   "cell_type": "code",
   "execution_count": 5,
   "metadata": {},
   "outputs": [
    {
     "data": {
      "text/html": [
       "<div>\n",
       "<style>\n",
       "    .dataframe thead tr:only-child th {\n",
       "        text-align: right;\n",
       "    }\n",
       "\n",
       "    .dataframe thead th {\n",
       "        text-align: left;\n",
       "    }\n",
       "\n",
       "    .dataframe tbody tr th {\n",
       "        vertical-align: top;\n",
       "    }\n",
       "</style>\n",
       "<table border=\"1\" class=\"dataframe\">\n",
       "  <thead>\n",
       "    <tr style=\"text-align: right;\">\n",
       "      <th></th>\n",
       "      <th>id</th>\n",
       "      <th>text</th>\n",
       "      <th>author</th>\n",
       "    </tr>\n",
       "  </thead>\n",
       "  <tbody>\n",
       "    <tr>\n",
       "      <th>0</th>\n",
       "      <td>id26305</td>\n",
       "      <td>This process, however, afforded me no means of...</td>\n",
       "      <td>EAP</td>\n",
       "    </tr>\n",
       "    <tr>\n",
       "      <th>1</th>\n",
       "      <td>id17569</td>\n",
       "      <td>It never once occurred to me that the fumbling...</td>\n",
       "      <td>HPL</td>\n",
       "    </tr>\n",
       "    <tr>\n",
       "      <th>2</th>\n",
       "      <td>id11008</td>\n",
       "      <td>In his left hand was a gold snuff box, from wh...</td>\n",
       "      <td>EAP</td>\n",
       "    </tr>\n",
       "    <tr>\n",
       "      <th>3</th>\n",
       "      <td>id27763</td>\n",
       "      <td>How lovely is spring As we looked from Windsor...</td>\n",
       "      <td>MWS</td>\n",
       "    </tr>\n",
       "    <tr>\n",
       "      <th>4</th>\n",
       "      <td>id12958</td>\n",
       "      <td>Finding nothing else, not even gold, the Super...</td>\n",
       "      <td>HPL</td>\n",
       "    </tr>\n",
       "  </tbody>\n",
       "</table>\n",
       "</div>"
      ],
      "text/plain": [
       "        id                                               text author\n",
       "0  id26305  This process, however, afforded me no means of...    EAP\n",
       "1  id17569  It never once occurred to me that the fumbling...    HPL\n",
       "2  id11008  In his left hand was a gold snuff box, from wh...    EAP\n",
       "3  id27763  How lovely is spring As we looked from Windsor...    MWS\n",
       "4  id12958  Finding nothing else, not even gold, the Super...    HPL"
      ]
     },
     "execution_count": 5,
     "metadata": {},
     "output_type": "execute_result"
    }
   ],
   "source": [
    "# First 5 rows of train data set \n",
    "train.head()"
   ]
  },
  {
   "cell_type": "markdown",
   "metadata": {},
   "source": [
    "* No redundancy in data - checked ! \n",
    "* No null texts in data - checked ! "
   ]
  },
  {
   "cell_type": "markdown",
   "metadata": {},
   "source": [
    "<a name='1'></a>\n",
    "## 1. Basic EDA \n",
    "### Writing style of each author"
   ]
  },
  {
   "cell_type": "code",
   "execution_count": 6,
   "metadata": {},
   "outputs": [
    {
     "name": "stdout",
     "output_type": "stream",
     "text": [
      "EAP -----\n",
      "This process, however, afforded me no means of ascertaining the dimensions of my dungeon; as I might make its circuit, and return to the point whence I set out, without being aware of the fact; so perfectly uniform seemed the wall.\n",
      "In his left hand was a gold snuff box, from which, as he capered down the hill, cutting all manner of fantastic steps, he took snuff incessantly with an air of the greatest possible self satisfaction.\n",
      "\n",
      "\n",
      "HPL -----\n",
      "It never once occurred to me that the fumbling might be a mere mistake.\n",
      "Finding nothing else, not even gold, the Superintendent abandoned his attempts; but a perplexed look occasionally steals over his countenance as he sits thinking at his desk.\n",
      "\n",
      "\n",
      "MWS -----\n",
      "How lovely is spring As we looked from Windsor Terrace on the sixteen fertile counties spread beneath, speckled by happy cottages and wealthier towns, all looked as in former years, heart cheering and fair.\n",
      "A youth passed in solitude, my best years spent under your gentle and feminine fosterage, has so refined the groundwork of my character that I cannot overcome an intense distaste to the usual brutality exercised on board ship: I have never believed it to be necessary, and when I heard of a mariner equally noted for his kindliness of heart and the respect and obedience paid to him by his crew, I felt myself peculiarly fortunate in being able to secure his services.\n",
      "\n",
      "\n"
     ]
    }
   ],
   "source": [
    "# Check out each of author's writing style \n",
    "for author, df in train.groupby('author'):\n",
    "    print(author,'-----')\n",
    "    cnt = 0\n",
    "    for idx, row in df.iterrows():\n",
    "        print(row['text'])\n",
    "        cnt += 1 \n",
    "        if cnt ==2:\n",
    "            break\n",
    "    print('\\n')"
   ]
  },
  {
   "cell_type": "markdown",
   "metadata": {},
   "source": [
    "### Summary Statistics"
   ]
  },
  {
   "cell_type": "code",
   "execution_count": 7,
   "metadata": {},
   "outputs": [
    {
     "name": "stdout",
     "output_type": "stream",
     "text": [
      "EAP    7900\n",
      "MWS    6044\n",
      "HPL    5635\n",
      "Name: author, dtype: int64\n"
     ]
    },
    {
     "data": {
      "image/png": "[encoded data removed]",
      "text/plain": [
       "<matplotlib.figure.Figure at 0x1090c3400>"
      ]
     },
     "metadata": {},
     "output_type": "display_data"
    }
   ],
   "source": [
    "print(train['author'].value_counts())\n",
    "sns.countplot(y='author', data=train)\n",
    "plt.show()"
   ]
  },
  {
   "cell_type": "markdown",
   "metadata": {},
   "source": [
    "* No class imbalance - checked!"
   ]
  },
  {
   "cell_type": "markdown",
   "metadata": {},
   "source": [
    "<a name='2'></a>\n",
    "## 2. Generate a Model"
   ]
  },
  {
   "cell_type": "markdown",
   "metadata": {},
   "source": [
    "### Cleaning \n",
    "Building a simple tokenizer function in order to remove stop words and punctuation characters. The Gensim algorithms work on sentences instead of arbitrary documents."
   ]
  },
  {
   "cell_type": "code",
   "execution_count": 8,
   "metadata": {
    "collapsed": true
   },
   "outputs": [],
   "source": [
    "from string import punctuation\n",
    "from nltk.corpus import stopwords\n",
    "from nltk.tokenize import word_tokenize\n",
    "\n",
    "def tokenize(docs):\n",
    "    pattern = stopwords.words(\"english\") + list(punctuation)\n",
    "    sentences = []\n",
    "    for d in docs:\n",
    "        sentence = word_tokenize(d)\n",
    "        sentences.append([w for w in sentence if w not in pattern])\n",
    "    return sentences "
   ]
  },
  {
   "cell_type": "code",
   "execution_count": 9,
   "metadata": {
    "collapsed": true
   },
   "outputs": [],
   "source": [
    "sentences = tokenize(train.text)"
   ]
  },
  {
   "cell_type": "markdown",
   "metadata": {},
   "source": [
    "### Generate features and  Build models"
   ]
  },
  {
   "cell_type": "code",
   "execution_count": 11,
   "metadata": {
    "collapsed": true
   },
   "outputs": [],
   "source": [
    "from sklearn.feature_extraction.text import TfidfVectorizer\n",
    "from sklearn.ensemble import RandomForestClassifier\n",
    "from sklearn.naive_bayes import MultinomialNB\n",
    "from sklearn.svm import SVC\n",
    "from sklearn.pipeline import Pipeline"
   ]
  },
  {
   "cell_type": "markdown",
   "metadata": {},
   "source": [
    "I'll try out `MultinomialNB`, `RandomForestClassifier`, and `SVC` with and without word embeddings. Therefore, there will be 6 different results. \n",
    "#### Models without word embeddings "
   ]
  },
  {
   "cell_type": "code",
   "execution_count": 12,
   "metadata": {
    "collapsed": true
   },
   "outputs": [],
   "source": [
    "# mutlinomial NB\n",
    "multi_nb = Pipeline([(\"tfidf_vectorizer\", \n",
    "                      TfidfVectorizer(min_df=5, ngram_range=(1,3))),\n",
    "                    (\"mutlinomial nb\", \n",
    "                     MultinomialNB())])\n",
    "# Random Forest \n",
    "rf = Pipeline([(\"tfidf_vectorizer\",\n",
    "                           TfidfVectorizer(min_df=5, ngram_range=(1,3))),\n",
    "                        (\"random forest\",\n",
    "                         RandomForestClassifier(n_estimators=100))   \n",
    "])\n",
    "\n",
    "# SVM\n",
    "svc = Pipeline([(\"tfidf_vectorizer\", \n",
    "                 TfidfVectorizer(min_df=5, ngram_range=(1,3))),\n",
    "               (\"linear svc\", \n",
    "                SVC(kernel=\"linear\", probability=True))])"
   ]
  },
  {
   "cell_type": "markdown",
   "metadata": {},
   "source": [
    "#### Benchmark on cross-validation scores"
   ]
  },
  {
   "cell_type": "code",
   "execution_count": 13,
   "metadata": {},
   "outputs": [
    {
     "name": "stdout",
     "output_type": "stream",
     "text": [
      "model               score\n",
      "----------------  -------\n",
      "multi nominal nb   0.8237\n",
      "random forest      0.7039\n",
      "SVC                0.8168\n"
     ]
    }
   ],
   "source": [
    "from sklearn.model_selection import cross_val_score\n",
    "from tabulate import tabulate\n",
    "\n",
    "models = [\n",
    "    (\"multi nominal nb\", multi_nb),\n",
    "    (\"random forest\", rf),\n",
    "    (\"SVC\", svc)\n",
    "]\n",
    "\n",
    "scores =  [(name, cross_val_score(model, train.text, train.author, cv=5).mean())\n",
    "                for name, model in models]\n",
    "\n",
    "print(tabulate(scores, floatfmt=\".4f\", headers=(\"model\", \"score\")))"
   ]
  },
  {
   "cell_type": "markdown",
   "metadata": {},
   "source": [
    "Cross validation results showed that simple models can predict authors pretty good. Next, I'll try out the same model but with word embeddings.\n",
    "\n",
    "#### Models with word embeddings \n",
    "\n",
    "`word2vec` method became de facto standard for training embdeddings. You can easily load pre-trained embeddings using `gensim.models.word2vec` or train them from scratch with given corpus. However, it's noteworthy that this train dataset is too small to train word embeddings. \n",
    "\n",
    "In this case, I'll train embeddings from given documents even though it doesn't guarantee its significance on results."
   ]
  },
  {
   "cell_type": "code",
   "execution_count": 40,
   "metadata": {},
   "outputs": [
    {
     "name": "stderr",
     "output_type": "stream",
     "text": [
      "/usr/local/lib/python3.6/site-packages/gensim/models/phrases.py:315: UserWarning: For a faster implementation, use the gensim.models.phrases.Phraser class\n",
      "  warnings.warn(\"For a faster implementation, use the gensim.models.phrases.Phraser class\")\n"
     ]
    }
   ],
   "source": [
    "# Try to train embeddings from documents... \n",
    "from gensim.models.word2vec import Word2Vec\n",
    "from gensim.models import Phrases\n",
    "\n",
    "bigramer = Phrases(sentences)\n",
    "model = Word2Vec(bigramer[sentences], size=100, window=5, min_count=10, workers=4)\n",
    "\n",
    "# unload memory\n",
    "model.init_sims(replace=True) \n",
    "\n",
    "# Storing a model\n",
    "model.save(\"spooky_author\")\n",
    "# new_model = gensim.models.Word2Vec.load('spooky_author')\n",
    "\n",
    "# Switch to KeyedVectors instance  \n",
    "w2v = {w: vec for w,vec in zip(model.wv.indx2word, model.wv.syn0)}"
   ]
  },
  {
   "cell_type": "code",
   "execution_count": 48,
   "metadata": {},
   "outputs": [
    {
     "data": {
      "text/plain": [
       "[('fellow', 0.3634422719478607),\n",
       " ('response', 0.35930243134498596),\n",
       " ('travellers', 0.3568391799926758),\n",
       " ('style', 0.31644564867019653),\n",
       " ('agin', 0.3144116699695587),\n",
       " ('joined', 0.31437185406684875),\n",
       " ('Von', 0.3131730258464813),\n",
       " ('Every', 0.3095419108867645),\n",
       " ('still', 0.3063656687736511),\n",
       " ('concerned', 0.29155850410461426)]"
      ]
     },
     "execution_count": 48,
     "metadata": {},
     "output_type": "execute_result"
    }
   ],
   "source": [
    "# most similar context words from a word 'fear' \n",
    "model.most_similar('fear')"
   ]
  },
  {
   "cell_type": "markdown",
   "metadata": {},
   "source": [
    "Following is an implementation of embedding vectorizer. For each word, this vectorizes texts by taking the mean of all the vectors corresponding to individual words."
   ]
  },
  {
   "cell_type": "code",
   "execution_count": 29,
   "metadata": {
    "collapsed": true
   },
   "outputs": [],
   "source": [
    "class EmbeddingVectorizer(object):\n",
    "    # If word2vec were passed in during initialization, use those\n",
    "    def __init__(self, word2vec):\n",
    "        self.word2vec = word2vec\n",
    "        self.word2weight = None\n",
    "        self.dim = 100\n",
    "    \n",
    "    # learning word2weight\n",
    "    def fit(self, X, y):\n",
    "        vect = TfidfVectorizer(min_df=5, ngram_range=(1,3))\n",
    "        vect.fit(X)\n",
    "        max_idf = max(vect.idf_)\n",
    "        self.word2weight = defaultdict(\n",
    "        lambda: max_idf, [(w, vect.idf_[i]) for w, i in vect.vocabulary_.items()]\n",
    "        )\n",
    "        return self\n",
    "    \n",
    "    # Use learned word2weight\n",
    "    def transform(self, X):\n",
    "        return np.array([\n",
    "            np.mean([\n",
    "                self.word2vec[w]*self.word2weight[w] \n",
    "                for w in words if w in self.word2vec] or \n",
    "                [np.zeros(self.dim)], axis=0) \n",
    "            for words in X\n",
    "        ])\n",
    "        "
   ]
  },
  {
   "cell_type": "code",
   "execution_count": 30,
   "metadata": {},
   "outputs": [],
   "source": [
    "from sklearn.preprocessing import MinMaxScaler\n",
    "\n",
    "# mutlinomial NB\n",
    "w2v_multi_nb = Pipeline([\n",
    "                         (\"word2vec vectorizer\", EmbeddingVectorizer(w2v)),\n",
    "                    (\"mutlinomial nb\", MultinomialNB())])\n",
    "# Random Forest \n",
    "w2v_rf = Pipeline([\n",
    "                    (\"word2vec vectorizer\", EmbeddingVectorizer(w2v)),\n",
    "                   (\"random forest\", RandomForestClassifier(n_estimators=100))   \n",
    "])\n",
    "\n",
    "# SVM\n",
    "w2v_svc = Pipeline([\n",
    "                     (\"word2vec vectorizer\", EmbeddingVectorizer(w2v)),\n",
    "                     (\"linear svc\", SVC(kernel=\"linear\", probability=True))])"
   ]
  },
  {
   "cell_type": "markdown",
   "metadata": {},
   "source": [
    "#### Benchmark on cross validation scores"
   ]
  },
  {
   "cell_type": "code",
   "execution_count": 53,
   "metadata": {},
   "outputs": [
    {
     "name": "stdout",
     "output_type": "stream",
     "text": [
      "model               score\n",
      "----------------  -------\n",
      "w2v_svc            0.4082\n",
      "w2v_randomforest   0.4179\n"
     ]
    }
   ],
   "source": [
    "from sklearn.model_selection import cross_val_score\n",
    "from tabulate import tabulate\n",
    "\n",
    "# benchmark \n",
    "# skip multinomial naive bayes since it only takes positive values \n",
    "# w2v values are from cosine similarity, which means it ranges from -1 to 1 \n",
    "models = [\n",
    "#     (\"w2v_multi_nb\", w2v_multi_nb),\n",
    "    (\"w2v_svc\", w2v_svc),\n",
    "    (\"w2v_randomforest\", w2v_rf)\n",
    "]\n",
    "\n",
    "scores =  [(name, cross_val_score(model, train.text, train.author, cv=5).mean())\n",
    "                for name, model in models]\n",
    "\n",
    "print(tabulate(scores, floatfmt=\".4f\", headers=(\"model\", \"score\")))"
   ]
  },
  {
   "cell_type": "markdown",
   "metadata": {},
   "source": [
    "With word embeddings, cross validation scores are strikingly low compared to previous methods. It might be because of word embeddings trained on the data itself, which is too small to be trained.\n",
    "\n",
    "In conclusion, multinomial naive bayes model wins followed by svm. "
   ]
  },
  {
   "cell_type": "code",
   "execution_count": 55,
   "metadata": {
    "collapsed": true
   },
   "outputs": [],
   "source": [
    "# pick the best model based on cross validation scores\n",
    "# fit pipeline(naive bayes nb) on test.text(X_train) and test.author(y_train)\n",
    "multi_nb.fit(train.text, train.author)\n",
    "svc.fit(train.text, train.author)\n",
    "\n",
    "# make predictions \n",
    "pred1 = multi_nb.predict_proba(test.text)\n",
    "pred2 = svc.predict_proba(test.text)"
   ]
  },
  {
   "cell_type": "markdown",
   "metadata": {},
   "source": [
    "#### Save the prediction result"
   ]
  },
  {
   "cell_type": "code",
   "execution_count": 56,
   "metadata": {
    "collapsed": true
   },
   "outputs": [],
   "source": [
    "def save_to_csv(pred, name):\n",
    "    #file_title = str(pred_with_param.size)+\"_\"+str(pred_with_param.window)+\"_\"+str(pred_with_param.sample)+\"_\"+str(pred_min_count)+\"_\"+str(n_estimator)\n",
    "    results_df = pd.DataFrame(pred, columns=['EAP','HPL','MWS'])\n",
    "    merged_df = pd.concat([pd.Series(test.id), results_df], axis=1)\n",
    "    merged_df.to_csv(\"./output/output\"+name+\".csv\", sep=\",\",index=False)"
   ]
  },
  {
   "cell_type": "code",
   "execution_count": 57,
   "metadata": {
    "collapsed": true
   },
   "outputs": [],
   "source": [
    "save_to_csv(pred1, 'multi_nb')\n",
    "save_to_csv(pred2, 'svc')"
   ]
  },
  {
   "cell_type": "markdown",
   "metadata": {},
   "source": [
    "I simply ended this competition as it is. You can do some feature engineering using meta data from text, such as the number of tokens in one sentence etc. However, I thought feature engineering with meta data would be somewhat limited since it is not really content-based.\n",
    "\n",
    "So, I tried out extracting named entities from training set and made them into features, thinking that same named entities would be repeated in their writings."
   ]
  },
  {
   "cell_type": "markdown",
   "metadata": {},
   "source": [
    "<a name='3'></a>\n",
    "## 3. Extract Named Entities "
   ]
  },
  {
   "cell_type": "markdown",
   "metadata": {},
   "source": [
    "### Named Entity Recognition \n",
    "In sentences, there would be named entities that mentioned repeatedly in the same author's writings. Let's find out which is the most common named entity that appears in their writings.  \n",
    "\n",
    "I'll use MITIE python API for performing named entity recognition."
   ]
  },
  {
   "cell_type": "code",
   "execution_count": 58,
   "metadata": {
    "collapsed": true
   },
   "outputs": [],
   "source": [
    "# load nltk libraries \n",
    "import itertools \n",
    "from nltk.tokenize import word_tokenize\n",
    "from nltk.corpus import stopwords\n",
    "from string import punctuation\n",
    "cachedStopWords = stopwords.words(\"english\") + list(punctuation)"
   ]
  },
  {
   "cell_type": "code",
   "execution_count": 59,
   "metadata": {
    "collapsed": true
   },
   "outputs": [],
   "source": [
    "# author list \n",
    "authors = train.author.unique().tolist()\n",
    "from mitie import *\n",
    "from collections import defaultdict\n",
    "# group texts into 3 by each author\n",
    "train_text = {}\n",
    "for author in authors:\n",
    "    train_text[author] = train[train['author']==author].text \n",
    "    \n",
    "# tokenize texts \n",
    "tokenized_train_text = {}\n",
    "for author, text in train_text.items():\n",
    "    tokenized = list(itertools.chain(*[word_tokenize(sentence) for sentence in text]))\n",
    "    tokenized_train_text[author] = [x for x in tokenized if x not in cachedStopWords]"
   ]
  },
  {
   "cell_type": "code",
   "execution_count": 60,
   "metadata": {
    "collapsed": true
   },
   "outputs": [],
   "source": [
    "# load mitie libraries \n",
    "from mitie import *\n",
    "from collections import defaultdict"
   ]
  },
  {
   "cell_type": "code",
   "execution_count": 61,
   "metadata": {},
   "outputs": [
    {
     "name": "stdout",
     "output_type": "stream",
     "text": [
      "Tags output by this NER model: ['PERSON', 'LOCATION', 'ORGANIZATION', 'MISC'] \n"
     ]
    }
   ],
   "source": [
    "ner = named_entity_extractor('./MITIE-models/english/ner_model.dat')\n",
    "print(\"Tags output by this NER model: {} \".format(ner.get_possible_ner_tags()))"
   ]
  },
  {
   "cell_type": "code",
   "execution_count": 62,
   "metadata": {},
   "outputs": [
    {
     "name": "stdout",
     "output_type": "stream",
     "text": [
      "EAP ----\n",
      "# entities: 2504\n",
      "HPL ----\n",
      "# entities: 2951\n",
      "MWS ----\n",
      "# entities: 2159\n"
     ]
    }
   ],
   "source": [
    "entities = {}\n",
    "for author, tokens in tokenized_train_text.items():\n",
    "    entities_by_author = ner.extract_entities(tokens)\n",
    "    if len(entities_by_author)>0:\n",
    "        print(author,'----')\n",
    "        print(\"# entities:\",len(entities_by_author))\n",
    "        entities[author]= entities_by_author "
   ]
  },
  {
   "cell_type": "code",
   "execution_count": 64,
   "metadata": {
    "collapsed": true
   },
   "outputs": [],
   "source": [
    "ner_df = {}\n",
    "for author, entity in entities.items():\n",
    "    df = pd.DataFrame.from_records(entity, columns=[\"Range\", \"Tag\", \"Score\"])\n",
    "    df.sort_values(by='Score', inplace=True, ascending=False)\n",
    "    df['Token'] = [\" \".join(tokenized_train_text[author][j] for j in entity[i][0])\n",
    "                   for i in xrange(len(entity))]\n",
    "    ner_df[author] = df"
   ]
  },
  {
   "cell_type": "code",
   "execution_count": 65,
   "metadata": {},
   "outputs": [
    {
     "name": "stdout",
     "output_type": "stream",
     "text": [
      "EAP\n",
      "                                                  Range           Tag  \\\n",
      "1878  (83439, 83440, 83441, 83442, 83443, 83444, 834...  ORGANIZATION   \n",
      "1392  (61852, 61853, 61854, 61855, 61856, 61857, 618...  ORGANIZATION   \n",
      "2465                                           (107844)      LOCATION   \n",
      "2283                                     (99512, 99513)        PERSON   \n",
      "897                                      (41000, 41001)        PERSON   \n",
      "\n",
      "         Score         Token  \n",
      "1878  3.328084      Epicurus  \n",
      "1392  3.289820         Greek  \n",
      "2465  1.767325    Pestilence  \n",
      "2283  1.652745    California  \n",
      "897   1.594430  Von Kempelen  \n",
      "----------------\n",
      "HPL\n",
      "                                                  Range           Tag  \\\n",
      "2025                                     (60805, 60806)        PERSON   \n",
      "1459  (43340, 43341, 43342, 43343, 43344, 43345, 433...  ORGANIZATION   \n",
      "1030  (30047, 30048, 30049, 30050, 30051, 30052, 300...  ORGANIZATION   \n",
      "2274                                     (68274, 68275)        PERSON   \n",
      "470                                      (13732, 13733)        PERSON   \n",
      "\n",
      "         Score           Token  \n",
      "2025  1.760086    Herbert West  \n",
      "1459  1.745268  Wheaton Street  \n",
      "1030  1.720886           Latin  \n",
      "2274  1.695395         Sarnath  \n",
      "470   1.646287         Sheehan  \n",
      "----------------\n",
      "MWS\n",
      "               Range       Tag     Score                       Token\n",
      "1066         (45341)  LOCATION  1.775354            Merrival Windsor\n",
      "1672  (69143, 69144)    PERSON  1.649010                     English\n",
      "1508         (62866)  LOCATION  1.564823                     Raymond\n",
      "1082  (45861, 45862)    PERSON  1.535843                     William\n",
      "342          (14448)    PERSON  1.477535  Cornelius Agrippa Albertus\n",
      "----------------\n"
     ]
    }
   ],
   "source": [
    "for author in ner_df.keys():\n",
    "    print(author)\n",
    "    print(ner_df[author].head())\n",
    "    print('----------------')"
   ]
  },
  {
   "cell_type": "markdown",
   "metadata": {},
   "source": [
    "We extracted named entities from each author's text. The higher the score is, the more likely that detected entities are named entity. If these named entities apprear repeatedly in author's writings, it could be used as a feature.\n",
    "\n",
    "Let's find out frequently appeared named entities in the texts."
   ]
  },
  {
   "cell_type": "code",
   "execution_count": 66,
   "metadata": {
    "collapsed": true
   },
   "outputs": [],
   "source": [
    "frequent_entities = {}\n",
    "for author in authors:\n",
    "    entity_list = []\n",
    "    freq_list = []\n",
    "    for _, entity in ner_df[author].head(30)['Token'].iteritems():\n",
    "        freq = 0\n",
    "        for token in tokenized_train_text[author]:\n",
    "            if token==entity:\n",
    "                freq+=1\n",
    "        if freq > 5:\n",
    "            entity_list.append(entity)\n",
    "            freq_list.append(freq)\n",
    "    frequent_entities[author] = {'entity':entity_list, 'freq':freq_list}"
   ]
  },
  {
   "cell_type": "code",
   "execution_count": 76,
   "metadata": {},
   "outputs": [
    {
     "data": {
      "image/png": "[encoded data removed]",
      "text/plain": [
       "<matplotlib.figure.Figure at 0x10d2d47b8>"
      ]
     },
     "metadata": {},
     "output_type": "display_data"
    },
    {
     "data": {
      "image/png": "[encoded data removed]",
      "text/plain": [
       "<matplotlib.figure.Figure at 0x1149a6e48>"
      ]
     },
     "metadata": {},
     "output_type": "display_data"
    },
    {
     "data": {
      "image/png": "[encoded data removed]",
      "text/plain": [
       "<matplotlib.figure.Figure at 0x113577ac8>"
      ]
     },
     "metadata": {},
     "output_type": "display_data"
    }
   ],
   "source": [
    "# Frenquent named entities in EAP's writing\n",
    "sns.barplot(x='entity', y='freq', data=pd.DataFrame(frequent_entities['EAP']).sort_values(by='freq', ascending=False).head())\n",
    "plt.title('EAP')\n",
    "plt.show()\n",
    "# Frenquent named entities in HPL's writing \n",
    "sns.barplot(x='entity', y='freq', data=pd.DataFrame(frequent_entities['HPL']).sort_values(by='freq', ascending=False).head())\n",
    "plt.title('HPL')\n",
    "plt.show()\n",
    "# Frenquent named entities in MWS's writing \n",
    "sns.barplot(x='entity', y='freq', data=pd.DataFrame(frequent_entities['MWS']).sort_values(by='freq', ascending=False).head())\n",
    "plt.title('MWS')\n",
    "plt.show()"
   ]
  },
  {
   "cell_type": "markdown",
   "metadata": {},
   "source": [
    "### Named Entity Frequencies "
   ]
  }
 ],
 "metadata": {
  "kernelspec": {
   "display_name": "Python 3",
   "language": "python",
   "name": "python3"
  }
 },
 "nbformat": 4,
 "nbformat_minor": 2
}
